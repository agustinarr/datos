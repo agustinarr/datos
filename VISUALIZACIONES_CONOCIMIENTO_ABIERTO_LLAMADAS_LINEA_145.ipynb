{
  "nbformat": 4,
  "nbformat_minor": 0,
  "metadata": {
    "colab": {
      "name": "VISUALIZACIONES CONOCIMIENTO ABIERTO - LLAMADAS LINEA 145",
      "provenance": [],
      "collapsed_sections": []
    },
    "kernelspec": {
      "display_name": "Python 3",
      "name": "python3"
    }
  },
  "cells": [
    {
      "cell_type": "code",
      "metadata": {
        "id": "mCjFNyBetTrR",
        "colab": {
          "base_uri": "https://localhost:8080/"
        },
        "outputId": "c4da68e3-acf0-41f4-c57e-004f57fc9fb2"
      },
      "source": [
        "from google.colab import drive\n",
        "drive.mount('/content/drive')"
      ],
      "execution_count": 1,
      "outputs": [
        {
          "output_type": "stream",
          "name": "stdout",
          "text": [
            "Mounted at /content/drive\n"
          ]
        }
      ]
    },
    {
      "cell_type": "code",
      "metadata": {
        "id": "1wnTOc6EvJ6a",
        "colab": {
          "base_uri": "https://localhost:8080/"
        },
        "outputId": "6711b1d7-b0ae-4ee3-9e33-b6696b6a79c7"
      },
      "source": [
        "%pylab inline\n",
        "import pandas as pd\n",
        "import numpy as np\n",
        "from matplotlib import pyplot as plt\n",
        "import seaborn as sns"
      ],
      "execution_count": 2,
      "outputs": [
        {
          "output_type": "stream",
          "name": "stdout",
          "text": [
            "Populating the interactive namespace from numpy and matplotlib\n"
          ]
        }
      ]
    },
    {
      "cell_type": "code",
      "metadata": {
        "id": "Kk1Q48IWxrBO"
      },
      "source": [
        "df = pd.read_csv(\"/content/drive/MyDrive/analisis datos/datasets/oficina-rescate-denuncias-202001-202109.csv\")"
      ],
      "execution_count": 3,
      "outputs": []
    },
    {
      "cell_type": "code",
      "metadata": {
        "id": "xUUQ6Bt8x9Qd",
        "colab": {
          "base_uri": "https://localhost:8080/",
          "height": 444
        },
        "outputId": "4d86afc1-e6d3-4e62-bbde-fbdc622e9049"
      },
      "source": [
        "df.head()"
      ],
      "execution_count": 4,
      "outputs": [
        {
          "output_type": "execute_result",
          "data": {
            "text/html": [
              "\n",
              "  <div id=\"df-b54bca78-7b5d-4371-8249-507c5252777c\">\n",
              "    <div class=\"colab-df-container\">\n",
              "      <div>\n",
              "<style scoped>\n",
              "    .dataframe tbody tr th:only-of-type {\n",
              "        vertical-align: middle;\n",
              "    }\n",
              "\n",
              "    .dataframe tbody tr th {\n",
              "        vertical-align: top;\n",
              "    }\n",
              "\n",
              "    .dataframe thead th {\n",
              "        text-align: right;\n",
              "    }\n",
              "</style>\n",
              "<table border=\"1\" class=\"dataframe\">\n",
              "  <thead>\n",
              "    <tr style=\"text-align: right;\">\n",
              "      <th></th>\n",
              "      <th>fecha_ingreso</th>\n",
              "      <th>hora_ingreso</th>\n",
              "      <th>nro_registro_interno</th>\n",
              "      <th>situacion</th>\n",
              "      <th>origen</th>\n",
              "      <th>es_anonima</th>\n",
              "      <th>tema</th>\n",
              "      <th>subtema</th>\n",
              "      <th>provincia</th>\n",
              "      <th>localidad</th>\n",
              "      <th>dependencia_alta</th>\n",
              "      <th>via_ingreso</th>\n",
              "      <th>derivacion_institucion</th>\n",
              "      <th>derivacion_fecha</th>\n",
              "      <th>derivacion_judicializa</th>\n",
              "      <th>derivacion2_institucion</th>\n",
              "      <th>derivacion2_fecha</th>\n",
              "      <th>derivacion2_judicializa</th>\n",
              "      <th>derivacion3_institucion</th>\n",
              "      <th>derivacion3_fecha</th>\n",
              "      <th>derivacion3_judicializa</th>\n",
              "      <th>denunciante_nacionalidad</th>\n",
              "      <th>denunciante_provincia</th>\n",
              "      <th>denunciante_localidad</th>\n",
              "      <th>denunciante_tipo</th>\n",
              "      <th>denunciante_como_conocio_la_linea</th>\n",
              "      <th>denunciante_genero</th>\n",
              "      <th>denunciante_edad_aparente</th>\n",
              "      <th>provincia_indec_id</th>\n",
              "    </tr>\n",
              "  </thead>\n",
              "  <tbody>\n",
              "    <tr>\n",
              "      <th>0</th>\n",
              "      <td>2020-01-01</td>\n",
              "      <td>20:32</td>\n",
              "      <td>584554505</td>\n",
              "      <td>Urgencia</td>\n",
              "      <td>Ciudadano</td>\n",
              "      <td>No</td>\n",
              "      <td>Trata</td>\n",
              "      <td>Explotación sexual</td>\n",
              "      <td>Buenos Aires</td>\n",
              "      <td>Maquinista Savio</td>\n",
              "      <td>PNR - Línea 145</td>\n",
              "      <td>Línea 145</td>\n",
              "      <td>Protex</td>\n",
              "      <td>2020-01-01 20:27</td>\n",
              "      <td>Si</td>\n",
              "      <td>NaN</td>\n",
              "      <td>NaN</td>\n",
              "      <td>NaN</td>\n",
              "      <td>NaN</td>\n",
              "      <td>NaN</td>\n",
              "      <td>NaN</td>\n",
              "      <td>NaN</td>\n",
              "      <td>NaN</td>\n",
              "      <td>NaN</td>\n",
              "      <td>Denunciante - ciudadano</td>\n",
              "      <td>NaN</td>\n",
              "      <td>Hombre</td>\n",
              "      <td>NaN</td>\n",
              "      <td>6.0</td>\n",
              "    </tr>\n",
              "    <tr>\n",
              "      <th>1</th>\n",
              "      <td>2020-01-01</td>\n",
              "      <td>21:06</td>\n",
              "      <td>2584554505</td>\n",
              "      <td>Emergencia</td>\n",
              "      <td>Institución</td>\n",
              "      <td>No</td>\n",
              "      <td>Trata</td>\n",
              "      <td>Explotación sexual niñas, niños y adolescentes</td>\n",
              "      <td>Buenos Aires</td>\n",
              "      <td>Ciudad Autónoma de Buenos Aires</td>\n",
              "      <td>PNR - Línea 145</td>\n",
              "      <td>Línea 145</td>\n",
              "      <td>Gendarmería Nacional Argentina</td>\n",
              "      <td>2020-01-01 20:52</td>\n",
              "      <td>Si</td>\n",
              "      <td>NaN</td>\n",
              "      <td>NaN</td>\n",
              "      <td>NaN</td>\n",
              "      <td>NaN</td>\n",
              "      <td>NaN</td>\n",
              "      <td>NaN</td>\n",
              "      <td>Argentina</td>\n",
              "      <td>Buenos Aires</td>\n",
              "      <td>Ciudad Autónoma de Buenos Aires</td>\n",
              "      <td>Denunciante - ciudadano</td>\n",
              "      <td>NaN</td>\n",
              "      <td>Mujer</td>\n",
              "      <td>NaN</td>\n",
              "      <td>6.0</td>\n",
              "    </tr>\n",
              "    <tr>\n",
              "      <th>2</th>\n",
              "      <td>2020-01-02</td>\n",
              "      <td>01:45</td>\n",
              "      <td>3584554505</td>\n",
              "      <td>Urgencia</td>\n",
              "      <td>Ciudadano</td>\n",
              "      <td>No</td>\n",
              "      <td>Trata</td>\n",
              "      <td>Extracción forzosa de órganos, tejidos o fluidos</td>\n",
              "      <td>Buenos Aires</td>\n",
              "      <td>San Francisco Solano</td>\n",
              "      <td>PNR - Línea 145</td>\n",
              "      <td>Línea 145</td>\n",
              "      <td>Protex</td>\n",
              "      <td>2020-01-02 01:38</td>\n",
              "      <td>Si</td>\n",
              "      <td>NaN</td>\n",
              "      <td>NaN</td>\n",
              "      <td>NaN</td>\n",
              "      <td>NaN</td>\n",
              "      <td>NaN</td>\n",
              "      <td>NaN</td>\n",
              "      <td>Argentina</td>\n",
              "      <td>Buenos Aires</td>\n",
              "      <td>Claypole</td>\n",
              "      <td>Denunciante - ciudadano</td>\n",
              "      <td>NaN</td>\n",
              "      <td>Mujer</td>\n",
              "      <td>45.0</td>\n",
              "      <td>6.0</td>\n",
              "    </tr>\n",
              "    <tr>\n",
              "      <th>3</th>\n",
              "      <td>2020-01-02</td>\n",
              "      <td>16:52</td>\n",
              "      <td>594554505</td>\n",
              "      <td>Urgencia</td>\n",
              "      <td>Ciudadano</td>\n",
              "      <td>Si</td>\n",
              "      <td>Trata</td>\n",
              "      <td>Explotación sexual</td>\n",
              "      <td>Córdoba</td>\n",
              "      <td>Laboulaye</td>\n",
              "      <td>PNR - Línea 145</td>\n",
              "      <td>Línea 145</td>\n",
              "      <td>Protex</td>\n",
              "      <td>2020-06-24 15:13</td>\n",
              "      <td>Si</td>\n",
              "      <td>NaN</td>\n",
              "      <td>NaN</td>\n",
              "      <td>NaN</td>\n",
              "      <td>NaN</td>\n",
              "      <td>NaN</td>\n",
              "      <td>NaN</td>\n",
              "      <td>Argentina</td>\n",
              "      <td>NaN</td>\n",
              "      <td>NaN</td>\n",
              "      <td>Denunciante - ciudadano</td>\n",
              "      <td>Por publicidad en internet</td>\n",
              "      <td>Mujer</td>\n",
              "      <td>50.0</td>\n",
              "      <td>14.0</td>\n",
              "    </tr>\n",
              "    <tr>\n",
              "      <th>4</th>\n",
              "      <td>2020-01-02</td>\n",
              "      <td>18:46</td>\n",
              "      <td>1594554505</td>\n",
              "      <td>Urgencia</td>\n",
              "      <td>Ciudadano</td>\n",
              "      <td>No</td>\n",
              "      <td>Trata</td>\n",
              "      <td>Posible captación</td>\n",
              "      <td>NaN</td>\n",
              "      <td>NaN</td>\n",
              "      <td>PNR - Línea 145</td>\n",
              "      <td>Correo Institucional</td>\n",
              "      <td>Protex</td>\n",
              "      <td>2020-06-24 15:14</td>\n",
              "      <td>Si</td>\n",
              "      <td>NaN</td>\n",
              "      <td>NaN</td>\n",
              "      <td>NaN</td>\n",
              "      <td>NaN</td>\n",
              "      <td>NaN</td>\n",
              "      <td>NaN</td>\n",
              "      <td>NaN</td>\n",
              "      <td>NaN</td>\n",
              "      <td>NaN</td>\n",
              "      <td>Denunciante - ciudadano</td>\n",
              "      <td>NaN</td>\n",
              "      <td>Hombre</td>\n",
              "      <td>NaN</td>\n",
              "      <td>NaN</td>\n",
              "    </tr>\n",
              "  </tbody>\n",
              "</table>\n",
              "</div>\n",
              "      <button class=\"colab-df-convert\" onclick=\"convertToInteractive('df-b54bca78-7b5d-4371-8249-507c5252777c')\"\n",
              "              title=\"Convert this dataframe to an interactive table.\"\n",
              "              style=\"display:none;\">\n",
              "        \n",
              "  <svg xmlns=\"http://www.w3.org/2000/svg\" height=\"24px\"viewBox=\"0 0 24 24\"\n",
              "       width=\"24px\">\n",
              "    <path d=\"M0 0h24v24H0V0z\" fill=\"none\"/>\n",
              "    <path d=\"M18.56 5.44l.94 2.06.94-2.06 2.06-.94-2.06-.94-.94-2.06-.94 2.06-2.06.94zm-11 1L8.5 8.5l.94-2.06 2.06-.94-2.06-.94L8.5 2.5l-.94 2.06-2.06.94zm10 10l.94 2.06.94-2.06 2.06-.94-2.06-.94-.94-2.06-.94 2.06-2.06.94z\"/><path d=\"M17.41 7.96l-1.37-1.37c-.4-.4-.92-.59-1.43-.59-.52 0-1.04.2-1.43.59L10.3 9.45l-7.72 7.72c-.78.78-.78 2.05 0 2.83L4 21.41c.39.39.9.59 1.41.59.51 0 1.02-.2 1.41-.59l7.78-7.78 2.81-2.81c.8-.78.8-2.07 0-2.86zM5.41 20L4 18.59l7.72-7.72 1.47 1.35L5.41 20z\"/>\n",
              "  </svg>\n",
              "      </button>\n",
              "      \n",
              "  <style>\n",
              "    .colab-df-container {\n",
              "      display:flex;\n",
              "      flex-wrap:wrap;\n",
              "      gap: 12px;\n",
              "    }\n",
              "\n",
              "    .colab-df-convert {\n",
              "      background-color: #E8F0FE;\n",
              "      border: none;\n",
              "      border-radius: 50%;\n",
              "      cursor: pointer;\n",
              "      display: none;\n",
              "      fill: #1967D2;\n",
              "      height: 32px;\n",
              "      padding: 0 0 0 0;\n",
              "      width: 32px;\n",
              "    }\n",
              "\n",
              "    .colab-df-convert:hover {\n",
              "      background-color: #E2EBFA;\n",
              "      box-shadow: 0px 1px 2px rgba(60, 64, 67, 0.3), 0px 1px 3px 1px rgba(60, 64, 67, 0.15);\n",
              "      fill: #174EA6;\n",
              "    }\n",
              "\n",
              "    [theme=dark] .colab-df-convert {\n",
              "      background-color: #3B4455;\n",
              "      fill: #D2E3FC;\n",
              "    }\n",
              "\n",
              "    [theme=dark] .colab-df-convert:hover {\n",
              "      background-color: #434B5C;\n",
              "      box-shadow: 0px 1px 3px 1px rgba(0, 0, 0, 0.15);\n",
              "      filter: drop-shadow(0px 1px 2px rgba(0, 0, 0, 0.3));\n",
              "      fill: #FFFFFF;\n",
              "    }\n",
              "  </style>\n",
              "\n",
              "      <script>\n",
              "        const buttonEl =\n",
              "          document.querySelector('#df-b54bca78-7b5d-4371-8249-507c5252777c button.colab-df-convert');\n",
              "        buttonEl.style.display =\n",
              "          google.colab.kernel.accessAllowed ? 'block' : 'none';\n",
              "\n",
              "        async function convertToInteractive(key) {\n",
              "          const element = document.querySelector('#df-b54bca78-7b5d-4371-8249-507c5252777c');\n",
              "          const dataTable =\n",
              "            await google.colab.kernel.invokeFunction('convertToInteractive',\n",
              "                                                     [key], {});\n",
              "          if (!dataTable) return;\n",
              "\n",
              "          const docLinkHtml = 'Like what you see? Visit the ' +\n",
              "            '<a target=\"_blank\" href=https://colab.research.google.com/notebooks/data_table.ipynb>data table notebook</a>'\n",
              "            + ' to learn more about interactive tables.';\n",
              "          element.innerHTML = '';\n",
              "          dataTable['output_type'] = 'display_data';\n",
              "          await google.colab.output.renderOutput(dataTable, element);\n",
              "          const docLink = document.createElement('div');\n",
              "          docLink.innerHTML = docLinkHtml;\n",
              "          element.appendChild(docLink);\n",
              "        }\n",
              "      </script>\n",
              "    </div>\n",
              "  </div>\n",
              "  "
            ],
            "text/plain": [
              "  fecha_ingreso hora_ingreso  ...  denunciante_edad_aparente provincia_indec_id\n",
              "0    2020-01-01        20:32  ...                        NaN                6.0\n",
              "1    2020-01-01        21:06  ...                        NaN                6.0\n",
              "2    2020-01-02        01:45  ...                       45.0                6.0\n",
              "3    2020-01-02        16:52  ...                       50.0               14.0\n",
              "4    2020-01-02        18:46  ...                        NaN                NaN\n",
              "\n",
              "[5 rows x 29 columns]"
            ]
          },
          "metadata": {},
          "execution_count": 4
        }
      ]
    },
    {
      "cell_type": "code",
      "metadata": {
        "id": "nh7EAJt8yKci",
        "colab": {
          "base_uri": "https://localhost:8080/"
        },
        "outputId": "779de67c-ac59-4998-f339-690c73176409"
      },
      "source": [
        "df.info()"
      ],
      "execution_count": 5,
      "outputs": [
        {
          "output_type": "stream",
          "name": "stdout",
          "text": [
            "<class 'pandas.core.frame.DataFrame'>\n",
            "RangeIndex: 2913 entries, 0 to 2912\n",
            "Data columns (total 29 columns):\n",
            " #   Column                             Non-Null Count  Dtype  \n",
            "---  ------                             --------------  -----  \n",
            " 0   fecha_ingreso                      2913 non-null   object \n",
            " 1   hora_ingreso                       2913 non-null   object \n",
            " 2   nro_registro_interno               2913 non-null   int64  \n",
            " 3   situacion                          2912 non-null   object \n",
            " 4   origen                             2913 non-null   object \n",
            " 5   es_anonima                         2913 non-null   object \n",
            " 6   tema                               2913 non-null   object \n",
            " 7   subtema                            2913 non-null   object \n",
            " 8   provincia                          2637 non-null   object \n",
            " 9   localidad                          2428 non-null   object \n",
            " 10  dependencia_alta                   2913 non-null   object \n",
            " 11  via_ingreso                        2890 non-null   object \n",
            " 12  derivacion_institucion             2560 non-null   object \n",
            " 13  derivacion_fecha                   2560 non-null   object \n",
            " 14  derivacion_judicializa             2560 non-null   object \n",
            " 15  derivacion2_institucion            401 non-null    object \n",
            " 16  derivacion2_fecha                  401 non-null    object \n",
            " 17  derivacion2_judicializa            401 non-null    object \n",
            " 18  derivacion3_institucion            11 non-null     object \n",
            " 19  derivacion3_fecha                  11 non-null     object \n",
            " 20  derivacion3_judicializa            11 non-null     object \n",
            " 21  denunciante_nacionalidad           635 non-null    object \n",
            " 22  denunciante_provincia              616 non-null    object \n",
            " 23  denunciante_localidad              565 non-null    object \n",
            " 24  denunciante_tipo                   2593 non-null   object \n",
            " 25  denunciante_como_conocio_la_linea  837 non-null    object \n",
            " 26  denunciante_genero                 2015 non-null   object \n",
            " 27  denunciante_edad_aparente          1551 non-null   float64\n",
            " 28  provincia_indec_id                 2636 non-null   float64\n",
            "dtypes: float64(2), int64(1), object(26)\n",
            "memory usage: 660.1+ KB\n"
          ]
        }
      ]
    },
    {
      "cell_type": "markdown",
      "metadata": {
        "id": "XnryJpZLzGHj"
      },
      "source": [
        "// pd.to_datetime sirve para convertir los objetos en fechas u hora."
      ]
    },
    {
      "cell_type": "code",
      "metadata": {
        "id": "Er1Qo-qcyq-J"
      },
      "source": [
        "df['fecha_ingreso'] = pd.to_datetime(df['fecha_ingreso'])"
      ],
      "execution_count": 6,
      "outputs": []
    },
    {
      "cell_type": "code",
      "metadata": {
        "id": "gf4ddKcjyzCf"
      },
      "source": [
        "df['fecha_ingreso'] = pd.to_datetime(df['fecha_ingreso'], format=\"%H%M\")"
      ],
      "execution_count": 33,
      "outputs": []
    },
    {
      "cell_type": "code",
      "metadata": {
        "id": "SzlkHoKcy-8O",
        "colab": {
          "base_uri": "https://localhost:8080/"
        },
        "outputId": "39c975a5-b5d9-401d-9d9d-fe12491f9052"
      },
      "source": [
        "df.info()"
      ],
      "execution_count": 8,
      "outputs": [
        {
          "output_type": "stream",
          "name": "stdout",
          "text": [
            "<class 'pandas.core.frame.DataFrame'>\n",
            "RangeIndex: 2913 entries, 0 to 2912\n",
            "Data columns (total 29 columns):\n",
            " #   Column                             Non-Null Count  Dtype         \n",
            "---  ------                             --------------  -----         \n",
            " 0   fecha_ingreso                      2913 non-null   datetime64[ns]\n",
            " 1   hora_ingreso                       2913 non-null   object        \n",
            " 2   nro_registro_interno               2913 non-null   int64         \n",
            " 3   situacion                          2912 non-null   object        \n",
            " 4   origen                             2913 non-null   object        \n",
            " 5   es_anonima                         2913 non-null   object        \n",
            " 6   tema                               2913 non-null   object        \n",
            " 7   subtema                            2913 non-null   object        \n",
            " 8   provincia                          2637 non-null   object        \n",
            " 9   localidad                          2428 non-null   object        \n",
            " 10  dependencia_alta                   2913 non-null   object        \n",
            " 11  via_ingreso                        2890 non-null   object        \n",
            " 12  derivacion_institucion             2560 non-null   object        \n",
            " 13  derivacion_fecha                   2560 non-null   object        \n",
            " 14  derivacion_judicializa             2560 non-null   object        \n",
            " 15  derivacion2_institucion            401 non-null    object        \n",
            " 16  derivacion2_fecha                  401 non-null    object        \n",
            " 17  derivacion2_judicializa            401 non-null    object        \n",
            " 18  derivacion3_institucion            11 non-null     object        \n",
            " 19  derivacion3_fecha                  11 non-null     object        \n",
            " 20  derivacion3_judicializa            11 non-null     object        \n",
            " 21  denunciante_nacionalidad           635 non-null    object        \n",
            " 22  denunciante_provincia              616 non-null    object        \n",
            " 23  denunciante_localidad              565 non-null    object        \n",
            " 24  denunciante_tipo                   2593 non-null   object        \n",
            " 25  denunciante_como_conocio_la_linea  837 non-null    object        \n",
            " 26  denunciante_genero                 2015 non-null   object        \n",
            " 27  denunciante_edad_aparente          1551 non-null   float64       \n",
            " 28  provincia_indec_id                 2636 non-null   float64       \n",
            "dtypes: datetime64[ns](1), float64(2), int64(1), object(25)\n",
            "memory usage: 660.1+ KB\n"
          ]
        }
      ]
    },
    {
      "cell_type": "code",
      "metadata": {
        "id": "2B5qb-s9DXyV",
        "colab": {
          "base_uri": "https://localhost:8080/"
        },
        "outputId": "019f0e2c-204b-4468-f760-0f7fe7d4128a"
      },
      "source": [
        "df.columns"
      ],
      "execution_count": 9,
      "outputs": [
        {
          "output_type": "execute_result",
          "data": {
            "text/plain": [
              "Index(['fecha_ingreso', 'hora_ingreso', 'nro_registro_interno', 'situacion',\n",
              "       'origen', 'es_anonima', 'tema', 'subtema', 'provincia', 'localidad',\n",
              "       'dependencia_alta', 'via_ingreso', 'derivacion_institucion',\n",
              "       'derivacion_fecha', 'derivacion_judicializa', 'derivacion2_institucion',\n",
              "       'derivacion2_fecha', 'derivacion2_judicializa',\n",
              "       'derivacion3_institucion', 'derivacion3_fecha',\n",
              "       'derivacion3_judicializa', 'denunciante_nacionalidad',\n",
              "       'denunciante_provincia', 'denunciante_localidad', 'denunciante_tipo',\n",
              "       'denunciante_como_conocio_la_linea', 'denunciante_genero',\n",
              "       'denunciante_edad_aparente', 'provincia_indec_id'],\n",
              "      dtype='object')"
            ]
          },
          "metadata": {},
          "execution_count": 9
        }
      ]
    },
    {
      "cell_type": "code",
      "metadata": {
        "id": "WgyCe7m5EElQ",
        "colab": {
          "base_uri": "https://localhost:8080/"
        },
        "outputId": "0180a400-9828-4e99-c2a1-062b80ce9d30"
      },
      "source": [
        "df[\"hora_ingreso\"]"
      ],
      "execution_count": 10,
      "outputs": [
        {
          "output_type": "execute_result",
          "data": {
            "text/plain": [
              "0       20:32\n",
              "1       21:06\n",
              "2       01:45\n",
              "3       16:52\n",
              "4       18:46\n",
              "        ...  \n",
              "2908    23:42\n",
              "2909    19:24\n",
              "2910    16:27\n",
              "2911    19:38\n",
              "2912    17:56\n",
              "Name: hora_ingreso, Length: 2913, dtype: object"
            ]
          },
          "metadata": {},
          "execution_count": 10
        }
      ]
    },
    {
      "cell_type": "markdown",
      "source": [
        "Se arma tabla con las columnas que voy a usar"
      ],
      "metadata": {
        "id": "f2K4DRw3LGeL"
      }
    },
    {
      "cell_type": "code",
      "metadata": {
        "id": "OUq653pU6mds"
      },
      "source": [
        "datos_llamadas = df.loc[:, [\"fecha_ingreso\",\"hora_ingreso\", 'origen', 'es_anonima', 'tema', 'subtema', 'provincia', \"derivacion_judicializa\"]]"
      ],
      "execution_count": 11,
      "outputs": []
    },
    {
      "cell_type": "code",
      "metadata": {
        "id": "d6riI5qn_yri",
        "colab": {
          "base_uri": "https://localhost:8080/",
          "height": 424
        },
        "outputId": "d114a19d-5035-49b4-919c-109be1c3e98d"
      },
      "source": [
        "datos_llamadas"
      ],
      "execution_count": 12,
      "outputs": [
        {
          "output_type": "execute_result",
          "data": {
            "text/html": [
              "\n",
              "  <div id=\"df-ec702fe4-221a-4aab-9dc9-6308d0acd567\">\n",
              "    <div class=\"colab-df-container\">\n",
              "      <div>\n",
              "<style scoped>\n",
              "    .dataframe tbody tr th:only-of-type {\n",
              "        vertical-align: middle;\n",
              "    }\n",
              "\n",
              "    .dataframe tbody tr th {\n",
              "        vertical-align: top;\n",
              "    }\n",
              "\n",
              "    .dataframe thead th {\n",
              "        text-align: right;\n",
              "    }\n",
              "</style>\n",
              "<table border=\"1\" class=\"dataframe\">\n",
              "  <thead>\n",
              "    <tr style=\"text-align: right;\">\n",
              "      <th></th>\n",
              "      <th>fecha_ingreso</th>\n",
              "      <th>hora_ingreso</th>\n",
              "      <th>origen</th>\n",
              "      <th>es_anonima</th>\n",
              "      <th>tema</th>\n",
              "      <th>subtema</th>\n",
              "      <th>provincia</th>\n",
              "      <th>derivacion_judicializa</th>\n",
              "    </tr>\n",
              "  </thead>\n",
              "  <tbody>\n",
              "    <tr>\n",
              "      <th>0</th>\n",
              "      <td>2020-01-01</td>\n",
              "      <td>20:32</td>\n",
              "      <td>Ciudadano</td>\n",
              "      <td>No</td>\n",
              "      <td>Trata</td>\n",
              "      <td>Explotación sexual</td>\n",
              "      <td>Buenos Aires</td>\n",
              "      <td>Si</td>\n",
              "    </tr>\n",
              "    <tr>\n",
              "      <th>1</th>\n",
              "      <td>2020-01-01</td>\n",
              "      <td>21:06</td>\n",
              "      <td>Institución</td>\n",
              "      <td>No</td>\n",
              "      <td>Trata</td>\n",
              "      <td>Explotación sexual niñas, niños y adolescentes</td>\n",
              "      <td>Buenos Aires</td>\n",
              "      <td>Si</td>\n",
              "    </tr>\n",
              "    <tr>\n",
              "      <th>2</th>\n",
              "      <td>2020-01-02</td>\n",
              "      <td>01:45</td>\n",
              "      <td>Ciudadano</td>\n",
              "      <td>No</td>\n",
              "      <td>Trata</td>\n",
              "      <td>Extracción forzosa de órganos, tejidos o fluidos</td>\n",
              "      <td>Buenos Aires</td>\n",
              "      <td>Si</td>\n",
              "    </tr>\n",
              "    <tr>\n",
              "      <th>3</th>\n",
              "      <td>2020-01-02</td>\n",
              "      <td>16:52</td>\n",
              "      <td>Ciudadano</td>\n",
              "      <td>Si</td>\n",
              "      <td>Trata</td>\n",
              "      <td>Explotación sexual</td>\n",
              "      <td>Córdoba</td>\n",
              "      <td>Si</td>\n",
              "    </tr>\n",
              "    <tr>\n",
              "      <th>4</th>\n",
              "      <td>2020-01-02</td>\n",
              "      <td>18:46</td>\n",
              "      <td>Ciudadano</td>\n",
              "      <td>No</td>\n",
              "      <td>Trata</td>\n",
              "      <td>Posible captación</td>\n",
              "      <td>NaN</td>\n",
              "      <td>Si</td>\n",
              "    </tr>\n",
              "    <tr>\n",
              "      <th>...</th>\n",
              "      <td>...</td>\n",
              "      <td>...</td>\n",
              "      <td>...</td>\n",
              "      <td>...</td>\n",
              "      <td>...</td>\n",
              "      <td>...</td>\n",
              "      <td>...</td>\n",
              "      <td>...</td>\n",
              "    </tr>\n",
              "    <tr>\n",
              "      <th>2908</th>\n",
              "      <td>2021-08-25</td>\n",
              "      <td>23:42</td>\n",
              "      <td>Ciudadano</td>\n",
              "      <td>No</td>\n",
              "      <td>Trata</td>\n",
              "      <td>Explotación sexual</td>\n",
              "      <td>NaN</td>\n",
              "      <td>No</td>\n",
              "    </tr>\n",
              "    <tr>\n",
              "      <th>2909</th>\n",
              "      <td>2021-09-15</td>\n",
              "      <td>19:24</td>\n",
              "      <td>Ciudadano</td>\n",
              "      <td>Si</td>\n",
              "      <td>Trata</td>\n",
              "      <td>Otro</td>\n",
              "      <td>San Juan</td>\n",
              "      <td>No</td>\n",
              "    </tr>\n",
              "    <tr>\n",
              "      <th>2910</th>\n",
              "      <td>2021-09-16</td>\n",
              "      <td>16:27</td>\n",
              "      <td>Ciudadano</td>\n",
              "      <td>Si</td>\n",
              "      <td>Trata</td>\n",
              "      <td>Otro</td>\n",
              "      <td>Entre Ríos</td>\n",
              "      <td>Si</td>\n",
              "    </tr>\n",
              "    <tr>\n",
              "      <th>2911</th>\n",
              "      <td>2021-09-16</td>\n",
              "      <td>19:38</td>\n",
              "      <td>Ciudadano</td>\n",
              "      <td>Si</td>\n",
              "      <td>Trata</td>\n",
              "      <td>Adultos mayores en riesgo</td>\n",
              "      <td>Tucumán</td>\n",
              "      <td>No</td>\n",
              "    </tr>\n",
              "    <tr>\n",
              "      <th>2912</th>\n",
              "      <td>2021-09-23</td>\n",
              "      <td>17:56</td>\n",
              "      <td>Ciudadano</td>\n",
              "      <td>No</td>\n",
              "      <td>Trata</td>\n",
              "      <td>Otro</td>\n",
              "      <td>Buenos Aires</td>\n",
              "      <td>No</td>\n",
              "    </tr>\n",
              "  </tbody>\n",
              "</table>\n",
              "<p>2913 rows × 8 columns</p>\n",
              "</div>\n",
              "      <button class=\"colab-df-convert\" onclick=\"convertToInteractive('df-ec702fe4-221a-4aab-9dc9-6308d0acd567')\"\n",
              "              title=\"Convert this dataframe to an interactive table.\"\n",
              "              style=\"display:none;\">\n",
              "        \n",
              "  <svg xmlns=\"http://www.w3.org/2000/svg\" height=\"24px\"viewBox=\"0 0 24 24\"\n",
              "       width=\"24px\">\n",
              "    <path d=\"M0 0h24v24H0V0z\" fill=\"none\"/>\n",
              "    <path d=\"M18.56 5.44l.94 2.06.94-2.06 2.06-.94-2.06-.94-.94-2.06-.94 2.06-2.06.94zm-11 1L8.5 8.5l.94-2.06 2.06-.94-2.06-.94L8.5 2.5l-.94 2.06-2.06.94zm10 10l.94 2.06.94-2.06 2.06-.94-2.06-.94-.94-2.06-.94 2.06-2.06.94z\"/><path d=\"M17.41 7.96l-1.37-1.37c-.4-.4-.92-.59-1.43-.59-.52 0-1.04.2-1.43.59L10.3 9.45l-7.72 7.72c-.78.78-.78 2.05 0 2.83L4 21.41c.39.39.9.59 1.41.59.51 0 1.02-.2 1.41-.59l7.78-7.78 2.81-2.81c.8-.78.8-2.07 0-2.86zM5.41 20L4 18.59l7.72-7.72 1.47 1.35L5.41 20z\"/>\n",
              "  </svg>\n",
              "      </button>\n",
              "      \n",
              "  <style>\n",
              "    .colab-df-container {\n",
              "      display:flex;\n",
              "      flex-wrap:wrap;\n",
              "      gap: 12px;\n",
              "    }\n",
              "\n",
              "    .colab-df-convert {\n",
              "      background-color: #E8F0FE;\n",
              "      border: none;\n",
              "      border-radius: 50%;\n",
              "      cursor: pointer;\n",
              "      display: none;\n",
              "      fill: #1967D2;\n",
              "      height: 32px;\n",
              "      padding: 0 0 0 0;\n",
              "      width: 32px;\n",
              "    }\n",
              "\n",
              "    .colab-df-convert:hover {\n",
              "      background-color: #E2EBFA;\n",
              "      box-shadow: 0px 1px 2px rgba(60, 64, 67, 0.3), 0px 1px 3px 1px rgba(60, 64, 67, 0.15);\n",
              "      fill: #174EA6;\n",
              "    }\n",
              "\n",
              "    [theme=dark] .colab-df-convert {\n",
              "      background-color: #3B4455;\n",
              "      fill: #D2E3FC;\n",
              "    }\n",
              "\n",
              "    [theme=dark] .colab-df-convert:hover {\n",
              "      background-color: #434B5C;\n",
              "      box-shadow: 0px 1px 3px 1px rgba(0, 0, 0, 0.15);\n",
              "      filter: drop-shadow(0px 1px 2px rgba(0, 0, 0, 0.3));\n",
              "      fill: #FFFFFF;\n",
              "    }\n",
              "  </style>\n",
              "\n",
              "      <script>\n",
              "        const buttonEl =\n",
              "          document.querySelector('#df-ec702fe4-221a-4aab-9dc9-6308d0acd567 button.colab-df-convert');\n",
              "        buttonEl.style.display =\n",
              "          google.colab.kernel.accessAllowed ? 'block' : 'none';\n",
              "\n",
              "        async function convertToInteractive(key) {\n",
              "          const element = document.querySelector('#df-ec702fe4-221a-4aab-9dc9-6308d0acd567');\n",
              "          const dataTable =\n",
              "            await google.colab.kernel.invokeFunction('convertToInteractive',\n",
              "                                                     [key], {});\n",
              "          if (!dataTable) return;\n",
              "\n",
              "          const docLinkHtml = 'Like what you see? Visit the ' +\n",
              "            '<a target=\"_blank\" href=https://colab.research.google.com/notebooks/data_table.ipynb>data table notebook</a>'\n",
              "            + ' to learn more about interactive tables.';\n",
              "          element.innerHTML = '';\n",
              "          dataTable['output_type'] = 'display_data';\n",
              "          await google.colab.output.renderOutput(dataTable, element);\n",
              "          const docLink = document.createElement('div');\n",
              "          docLink.innerHTML = docLinkHtml;\n",
              "          element.appendChild(docLink);\n",
              "        }\n",
              "      </script>\n",
              "    </div>\n",
              "  </div>\n",
              "  "
            ],
            "text/plain": [
              "     fecha_ingreso hora_ingreso  ...     provincia derivacion_judicializa\n",
              "0       2020-01-01        20:32  ...  Buenos Aires                     Si\n",
              "1       2020-01-01        21:06  ...  Buenos Aires                     Si\n",
              "2       2020-01-02        01:45  ...  Buenos Aires                     Si\n",
              "3       2020-01-02        16:52  ...       Córdoba                     Si\n",
              "4       2020-01-02        18:46  ...           NaN                     Si\n",
              "...            ...          ...  ...           ...                    ...\n",
              "2908    2021-08-25        23:42  ...           NaN                     No\n",
              "2909    2021-09-15        19:24  ...      San Juan                     No\n",
              "2910    2021-09-16        16:27  ...    Entre Ríos                     Si\n",
              "2911    2021-09-16        19:38  ...       Tucumán                     No\n",
              "2912    2021-09-23        17:56  ...  Buenos Aires                     No\n",
              "\n",
              "[2913 rows x 8 columns]"
            ]
          },
          "metadata": {},
          "execution_count": 12
        }
      ]
    },
    {
      "cell_type": "code",
      "source": [
        "datos_llamadas.info()"
      ],
      "metadata": {
        "id": "6Oz5J-1D_c76",
        "colab": {
          "base_uri": "https://localhost:8080/"
        },
        "outputId": "f42f080f-497d-40a6-8879-88cebedb1a9d"
      },
      "execution_count": 13,
      "outputs": [
        {
          "output_type": "stream",
          "name": "stdout",
          "text": [
            "<class 'pandas.core.frame.DataFrame'>\n",
            "RangeIndex: 2913 entries, 0 to 2912\n",
            "Data columns (total 8 columns):\n",
            " #   Column                  Non-Null Count  Dtype         \n",
            "---  ------                  --------------  -----         \n",
            " 0   fecha_ingreso           2913 non-null   datetime64[ns]\n",
            " 1   hora_ingreso            2913 non-null   object        \n",
            " 2   origen                  2913 non-null   object        \n",
            " 3   es_anonima              2913 non-null   object        \n",
            " 4   tema                    2913 non-null   object        \n",
            " 5   subtema                 2913 non-null   object        \n",
            " 6   provincia               2637 non-null   object        \n",
            " 7   derivacion_judicializa  2560 non-null   object        \n",
            "dtypes: datetime64[ns](1), object(7)\n",
            "memory usage: 182.2+ KB\n"
          ]
        }
      ]
    },
    {
      "cell_type": "markdown",
      "source": [
        "agregamos columnas para analizar fechas mas especificas"
      ],
      "metadata": {
        "id": "bGvliLpEeGUo"
      }
    },
    {
      "cell_type": "code",
      "source": [
        "datos_llamadas[\"año\"] = datos_llamadas[\"fecha_ingreso\"].dt.year\n",
        "datos_llamadas[\"mes\"] = datos_llamadas[\"fecha_ingreso\"].dt.month\n"
      ],
      "metadata": {
        "id": "UDqsVvJ3djGr"
      },
      "execution_count": 14,
      "outputs": []
    },
    {
      "cell_type": "code",
      "source": [
        "datos_llamadas"
      ],
      "metadata": {
        "id": "nO0c6MT0eA4O",
        "colab": {
          "base_uri": "https://localhost:8080/",
          "height": 424
        },
        "outputId": "b3c7a8a5-daf7-4f99-cff8-64aa7b2b4750"
      },
      "execution_count": 15,
      "outputs": [
        {
          "output_type": "execute_result",
          "data": {
            "text/html": [
              "\n",
              "  <div id=\"df-5e3f8221-d1f7-469a-9c36-3f6a4109eafb\">\n",
              "    <div class=\"colab-df-container\">\n",
              "      <div>\n",
              "<style scoped>\n",
              "    .dataframe tbody tr th:only-of-type {\n",
              "        vertical-align: middle;\n",
              "    }\n",
              "\n",
              "    .dataframe tbody tr th {\n",
              "        vertical-align: top;\n",
              "    }\n",
              "\n",
              "    .dataframe thead th {\n",
              "        text-align: right;\n",
              "    }\n",
              "</style>\n",
              "<table border=\"1\" class=\"dataframe\">\n",
              "  <thead>\n",
              "    <tr style=\"text-align: right;\">\n",
              "      <th></th>\n",
              "      <th>fecha_ingreso</th>\n",
              "      <th>hora_ingreso</th>\n",
              "      <th>origen</th>\n",
              "      <th>es_anonima</th>\n",
              "      <th>tema</th>\n",
              "      <th>subtema</th>\n",
              "      <th>provincia</th>\n",
              "      <th>derivacion_judicializa</th>\n",
              "      <th>año</th>\n",
              "      <th>mes</th>\n",
              "    </tr>\n",
              "  </thead>\n",
              "  <tbody>\n",
              "    <tr>\n",
              "      <th>0</th>\n",
              "      <td>2020-01-01</td>\n",
              "      <td>20:32</td>\n",
              "      <td>Ciudadano</td>\n",
              "      <td>No</td>\n",
              "      <td>Trata</td>\n",
              "      <td>Explotación sexual</td>\n",
              "      <td>Buenos Aires</td>\n",
              "      <td>Si</td>\n",
              "      <td>2020</td>\n",
              "      <td>1</td>\n",
              "    </tr>\n",
              "    <tr>\n",
              "      <th>1</th>\n",
              "      <td>2020-01-01</td>\n",
              "      <td>21:06</td>\n",
              "      <td>Institución</td>\n",
              "      <td>No</td>\n",
              "      <td>Trata</td>\n",
              "      <td>Explotación sexual niñas, niños y adolescentes</td>\n",
              "      <td>Buenos Aires</td>\n",
              "      <td>Si</td>\n",
              "      <td>2020</td>\n",
              "      <td>1</td>\n",
              "    </tr>\n",
              "    <tr>\n",
              "      <th>2</th>\n",
              "      <td>2020-01-02</td>\n",
              "      <td>01:45</td>\n",
              "      <td>Ciudadano</td>\n",
              "      <td>No</td>\n",
              "      <td>Trata</td>\n",
              "      <td>Extracción forzosa de órganos, tejidos o fluidos</td>\n",
              "      <td>Buenos Aires</td>\n",
              "      <td>Si</td>\n",
              "      <td>2020</td>\n",
              "      <td>1</td>\n",
              "    </tr>\n",
              "    <tr>\n",
              "      <th>3</th>\n",
              "      <td>2020-01-02</td>\n",
              "      <td>16:52</td>\n",
              "      <td>Ciudadano</td>\n",
              "      <td>Si</td>\n",
              "      <td>Trata</td>\n",
              "      <td>Explotación sexual</td>\n",
              "      <td>Córdoba</td>\n",
              "      <td>Si</td>\n",
              "      <td>2020</td>\n",
              "      <td>1</td>\n",
              "    </tr>\n",
              "    <tr>\n",
              "      <th>4</th>\n",
              "      <td>2020-01-02</td>\n",
              "      <td>18:46</td>\n",
              "      <td>Ciudadano</td>\n",
              "      <td>No</td>\n",
              "      <td>Trata</td>\n",
              "      <td>Posible captación</td>\n",
              "      <td>NaN</td>\n",
              "      <td>Si</td>\n",
              "      <td>2020</td>\n",
              "      <td>1</td>\n",
              "    </tr>\n",
              "    <tr>\n",
              "      <th>...</th>\n",
              "      <td>...</td>\n",
              "      <td>...</td>\n",
              "      <td>...</td>\n",
              "      <td>...</td>\n",
              "      <td>...</td>\n",
              "      <td>...</td>\n",
              "      <td>...</td>\n",
              "      <td>...</td>\n",
              "      <td>...</td>\n",
              "      <td>...</td>\n",
              "    </tr>\n",
              "    <tr>\n",
              "      <th>2908</th>\n",
              "      <td>2021-08-25</td>\n",
              "      <td>23:42</td>\n",
              "      <td>Ciudadano</td>\n",
              "      <td>No</td>\n",
              "      <td>Trata</td>\n",
              "      <td>Explotación sexual</td>\n",
              "      <td>NaN</td>\n",
              "      <td>No</td>\n",
              "      <td>2021</td>\n",
              "      <td>8</td>\n",
              "    </tr>\n",
              "    <tr>\n",
              "      <th>2909</th>\n",
              "      <td>2021-09-15</td>\n",
              "      <td>19:24</td>\n",
              "      <td>Ciudadano</td>\n",
              "      <td>Si</td>\n",
              "      <td>Trata</td>\n",
              "      <td>Otro</td>\n",
              "      <td>San Juan</td>\n",
              "      <td>No</td>\n",
              "      <td>2021</td>\n",
              "      <td>9</td>\n",
              "    </tr>\n",
              "    <tr>\n",
              "      <th>2910</th>\n",
              "      <td>2021-09-16</td>\n",
              "      <td>16:27</td>\n",
              "      <td>Ciudadano</td>\n",
              "      <td>Si</td>\n",
              "      <td>Trata</td>\n",
              "      <td>Otro</td>\n",
              "      <td>Entre Ríos</td>\n",
              "      <td>Si</td>\n",
              "      <td>2021</td>\n",
              "      <td>9</td>\n",
              "    </tr>\n",
              "    <tr>\n",
              "      <th>2911</th>\n",
              "      <td>2021-09-16</td>\n",
              "      <td>19:38</td>\n",
              "      <td>Ciudadano</td>\n",
              "      <td>Si</td>\n",
              "      <td>Trata</td>\n",
              "      <td>Adultos mayores en riesgo</td>\n",
              "      <td>Tucumán</td>\n",
              "      <td>No</td>\n",
              "      <td>2021</td>\n",
              "      <td>9</td>\n",
              "    </tr>\n",
              "    <tr>\n",
              "      <th>2912</th>\n",
              "      <td>2021-09-23</td>\n",
              "      <td>17:56</td>\n",
              "      <td>Ciudadano</td>\n",
              "      <td>No</td>\n",
              "      <td>Trata</td>\n",
              "      <td>Otro</td>\n",
              "      <td>Buenos Aires</td>\n",
              "      <td>No</td>\n",
              "      <td>2021</td>\n",
              "      <td>9</td>\n",
              "    </tr>\n",
              "  </tbody>\n",
              "</table>\n",
              "<p>2913 rows × 10 columns</p>\n",
              "</div>\n",
              "      <button class=\"colab-df-convert\" onclick=\"convertToInteractive('df-5e3f8221-d1f7-469a-9c36-3f6a4109eafb')\"\n",
              "              title=\"Convert this dataframe to an interactive table.\"\n",
              "              style=\"display:none;\">\n",
              "        \n",
              "  <svg xmlns=\"http://www.w3.org/2000/svg\" height=\"24px\"viewBox=\"0 0 24 24\"\n",
              "       width=\"24px\">\n",
              "    <path d=\"M0 0h24v24H0V0z\" fill=\"none\"/>\n",
              "    <path d=\"M18.56 5.44l.94 2.06.94-2.06 2.06-.94-2.06-.94-.94-2.06-.94 2.06-2.06.94zm-11 1L8.5 8.5l.94-2.06 2.06-.94-2.06-.94L8.5 2.5l-.94 2.06-2.06.94zm10 10l.94 2.06.94-2.06 2.06-.94-2.06-.94-.94-2.06-.94 2.06-2.06.94z\"/><path d=\"M17.41 7.96l-1.37-1.37c-.4-.4-.92-.59-1.43-.59-.52 0-1.04.2-1.43.59L10.3 9.45l-7.72 7.72c-.78.78-.78 2.05 0 2.83L4 21.41c.39.39.9.59 1.41.59.51 0 1.02-.2 1.41-.59l7.78-7.78 2.81-2.81c.8-.78.8-2.07 0-2.86zM5.41 20L4 18.59l7.72-7.72 1.47 1.35L5.41 20z\"/>\n",
              "  </svg>\n",
              "      </button>\n",
              "      \n",
              "  <style>\n",
              "    .colab-df-container {\n",
              "      display:flex;\n",
              "      flex-wrap:wrap;\n",
              "      gap: 12px;\n",
              "    }\n",
              "\n",
              "    .colab-df-convert {\n",
              "      background-color: #E8F0FE;\n",
              "      border: none;\n",
              "      border-radius: 50%;\n",
              "      cursor: pointer;\n",
              "      display: none;\n",
              "      fill: #1967D2;\n",
              "      height: 32px;\n",
              "      padding: 0 0 0 0;\n",
              "      width: 32px;\n",
              "    }\n",
              "\n",
              "    .colab-df-convert:hover {\n",
              "      background-color: #E2EBFA;\n",
              "      box-shadow: 0px 1px 2px rgba(60, 64, 67, 0.3), 0px 1px 3px 1px rgba(60, 64, 67, 0.15);\n",
              "      fill: #174EA6;\n",
              "    }\n",
              "\n",
              "    [theme=dark] .colab-df-convert {\n",
              "      background-color: #3B4455;\n",
              "      fill: #D2E3FC;\n",
              "    }\n",
              "\n",
              "    [theme=dark] .colab-df-convert:hover {\n",
              "      background-color: #434B5C;\n",
              "      box-shadow: 0px 1px 3px 1px rgba(0, 0, 0, 0.15);\n",
              "      filter: drop-shadow(0px 1px 2px rgba(0, 0, 0, 0.3));\n",
              "      fill: #FFFFFF;\n",
              "    }\n",
              "  </style>\n",
              "\n",
              "      <script>\n",
              "        const buttonEl =\n",
              "          document.querySelector('#df-5e3f8221-d1f7-469a-9c36-3f6a4109eafb button.colab-df-convert');\n",
              "        buttonEl.style.display =\n",
              "          google.colab.kernel.accessAllowed ? 'block' : 'none';\n",
              "\n",
              "        async function convertToInteractive(key) {\n",
              "          const element = document.querySelector('#df-5e3f8221-d1f7-469a-9c36-3f6a4109eafb');\n",
              "          const dataTable =\n",
              "            await google.colab.kernel.invokeFunction('convertToInteractive',\n",
              "                                                     [key], {});\n",
              "          if (!dataTable) return;\n",
              "\n",
              "          const docLinkHtml = 'Like what you see? Visit the ' +\n",
              "            '<a target=\"_blank\" href=https://colab.research.google.com/notebooks/data_table.ipynb>data table notebook</a>'\n",
              "            + ' to learn more about interactive tables.';\n",
              "          element.innerHTML = '';\n",
              "          dataTable['output_type'] = 'display_data';\n",
              "          await google.colab.output.renderOutput(dataTable, element);\n",
              "          const docLink = document.createElement('div');\n",
              "          docLink.innerHTML = docLinkHtml;\n",
              "          element.appendChild(docLink);\n",
              "        }\n",
              "      </script>\n",
              "    </div>\n",
              "  </div>\n",
              "  "
            ],
            "text/plain": [
              "     fecha_ingreso hora_ingreso       origen  ... derivacion_judicializa   año mes\n",
              "0       2020-01-01        20:32    Ciudadano  ...                     Si  2020   1\n",
              "1       2020-01-01        21:06  Institución  ...                     Si  2020   1\n",
              "2       2020-01-02        01:45    Ciudadano  ...                     Si  2020   1\n",
              "3       2020-01-02        16:52    Ciudadano  ...                     Si  2020   1\n",
              "4       2020-01-02        18:46    Ciudadano  ...                     Si  2020   1\n",
              "...            ...          ...          ...  ...                    ...   ...  ..\n",
              "2908    2021-08-25        23:42    Ciudadano  ...                     No  2021   8\n",
              "2909    2021-09-15        19:24    Ciudadano  ...                     No  2021   9\n",
              "2910    2021-09-16        16:27    Ciudadano  ...                     Si  2021   9\n",
              "2911    2021-09-16        19:38    Ciudadano  ...                     No  2021   9\n",
              "2912    2021-09-23        17:56    Ciudadano  ...                     No  2021   9\n",
              "\n",
              "[2913 rows x 10 columns]"
            ]
          },
          "metadata": {},
          "execution_count": 15
        }
      ]
    },
    {
      "cell_type": "markdown",
      "source": [
        "¿Hubo algun dia con mayor cantidad de llamados?"
      ],
      "metadata": {
        "id": "o5qLy9NZFYKv"
      }
    },
    {
      "cell_type": "code",
      "source": [
        "datos_llamadas[\"fecha_ingreso\"].value_counts()"
      ],
      "metadata": {
        "id": "hORoA-rchx4n",
        "colab": {
          "base_uri": "https://localhost:8080/"
        },
        "outputId": "43c07d50-9291-4c14-f99d-2b8b8d6f5379"
      },
      "execution_count": 16,
      "outputs": [
        {
          "output_type": "execute_result",
          "data": {
            "text/plain": [
              "2020-03-23    27\n",
              "2020-08-04    12\n",
              "2021-05-20    12\n",
              "2020-01-09    12\n",
              "2021-03-15    11\n",
              "              ..\n",
              "2020-11-22     1\n",
              "2020-11-23     1\n",
              "2020-03-20     1\n",
              "2020-09-05     1\n",
              "2021-06-21     1\n",
              "Name: fecha_ingreso, Length: 617, dtype: int64"
            ]
          },
          "metadata": {},
          "execution_count": 16
        }
      ]
    },
    {
      "cell_type": "markdown",
      "source": [
        "Se encuentra una cantidad significativamente elevada de llamados el dia 23 de marzo de 2020, con un total de 27. Los siguientes tres días consiguen una sumatoria de 12 llamados por dia, correspondientes al 4 de agosto de 2020, 20 de mayo de 2021 y 9 de enero de 2020. "
      ],
      "metadata": {
        "id": "uqkeQ9eg-2o9"
      }
    },
    {
      "cell_type": "markdown",
      "source": [
        "¿De que se hablaba en ese dia?"
      ],
      "metadata": {
        "id": "FesxN8JDFfwk"
      }
    },
    {
      "cell_type": "code",
      "source": [
        "dia_mas_llamados = datos_llamadas[datos_llamadas[\"fecha_ingreso\"] == \"2020-03-23\"]\n",
        "\n",
        "dia_mas_llamados[\"subtema\"].value_counts()\n",
        "\n"
      ],
      "metadata": {
        "id": "aaXLXTUrFeXx",
        "colab": {
          "base_uri": "https://localhost:8080/"
        },
        "outputId": "d5f4b098-a221-4d32-c391-8185e1199ec8"
      },
      "execution_count": 17,
      "outputs": [
        {
          "output_type": "execute_result",
          "data": {
            "text/plain": [
              "Covid-19                              24\n",
              "Privacion ilegitima                    1\n",
              "Privacion ilegitima de la libertad     1\n",
              "Explotación sexual                     1\n",
              "Name: subtema, dtype: int64"
            ]
          },
          "metadata": {},
          "execution_count": 17
        }
      ]
    },
    {
      "cell_type": "code",
      "source": [
        "sns.countplot(y=dia_mas_llamados[\"subtema\"])"
      ],
      "metadata": {
        "id": "Ob9bFGZAS5Jr",
        "colab": {
          "base_uri": "https://localhost:8080/",
          "height": 296
        },
        "outputId": "72644097-e3eb-4d98-9671-4da6debabb66"
      },
      "execution_count": 18,
      "outputs": [
        {
          "output_type": "execute_result",
          "data": {
            "text/plain": [
              "<matplotlib.axes._subplots.AxesSubplot at 0x7fab3a231150>"
            ]
          },
          "metadata": {},
          "execution_count": 18
        },
        {
          "output_type": "display_data",
          "data": {
            "image/png": "[encoded data removed]",
            "text/plain": [
              "<Figure size 432x288 with 1 Axes>"
            ]
          },
          "metadata": {
            "needs_background": "light"
          }
        }
      ]
    },
    {
      "cell_type": "markdown",
      "source": [
        "El subtema principal de llamados recibidos el dia 23/03/2020, es Covid-19. Puede explicarse teniendo en cuenta que fue el primer dia habil de cuarentena obligatoria decretada por el Gobierno Nacional. "
      ],
      "metadata": {
        "id": "MuRsTzmw_zD4"
      }
    },
    {
      "cell_type": "code",
      "source": [
        "dia_mas_llamados[\"provincia\"].value_counts()"
      ],
      "metadata": {
        "id": "ADjMT7peKLo8",
        "colab": {
          "base_uri": "https://localhost:8080/"
        },
        "outputId": "7acc5d64-fd9b-4dd8-8ad1-713c9c64edb8"
      },
      "execution_count": 19,
      "outputs": [
        {
          "output_type": "execute_result",
          "data": {
            "text/plain": [
              "Buenos Aires    26\n",
              "Mendoza          1\n",
              "Name: provincia, dtype: int64"
            ]
          },
          "metadata": {},
          "execution_count": 19
        }
      ]
    },
    {
      "cell_type": "markdown",
      "source": [
        "Los llamados de ese día provienen de la provincia de Bs As, con excepción de uno que tuvo su origen en Mendoza. "
      ],
      "metadata": {
        "id": "2D0OiSV3Xcya"
      }
    },
    {
      "cell_type": "code",
      "source": [
        "sns.countplot(y=dia_mas_llamados[\"provincia\"])\n"
      ],
      "metadata": {
        "id": "iwNre_-mD2zL",
        "colab": {
          "base_uri": "https://localhost:8080/",
          "height": 296
        },
        "outputId": "a2a55dff-07e8-4e31-a966-66200d9ef3ad"
      },
      "execution_count": 20,
      "outputs": [
        {
          "output_type": "execute_result",
          "data": {
            "text/plain": [
              "<matplotlib.axes._subplots.AxesSubplot at 0x7fab3a221f50>"
            ]
          },
          "metadata": {},
          "execution_count": 20
        },
        {
          "output_type": "display_data",
          "data": {
            "image/png": "[encoded data removed]",
            "text/plain": [
              "<Figure size 432x288 with 1 Axes>"
            ]
          },
          "metadata": {
            "needs_background": "light"
          }
        }
      ]
    },
    {
      "cell_type": "code",
      "source": [
        "datos_llamadas[\"subtema\"].unique()"
      ],
      "metadata": {
        "id": "AtUdt4bXBPQO",
        "colab": {
          "base_uri": "https://localhost:8080/"
        },
        "outputId": "7300c576-7e28-469c-ea5e-f6e4e1e0f570"
      },
      "execution_count": 21,
      "outputs": [
        {
          "output_type": "execute_result",
          "data": {
            "text/plain": [
              "array(['Explotación sexual',\n",
              "       'Explotación sexual niñas, niños y adolescentes',\n",
              "       'Extracción forzosa de órganos, tejidos o fluidos',\n",
              "       'Posible captación', 'Persona desaparecida', 'Explotación laboral',\n",
              "       'Oferta laboral engañosa', 'Venta de niños y otros delitos',\n",
              "       'Pornografía infantil, venta de niños y otros delitos, estafa',\n",
              "       'Explotación sexual, explotación sexual niñas, niños y adolescentes',\n",
              "       'Persona desaparecida, venta de niños y otros delitos',\n",
              "       'Abuso sexual infantil', 'Persona desaparecida, posible captación',\n",
              "       'Oferta laboral engañosa, posible captación',\n",
              "       'Publicidad de oferta sexual',\n",
              "       'Explotación laboral, explotación laboral niñas, niños y adolescentes',\n",
              "       'Pornografía infantil', 'Otro',\n",
              "       'Explotación sexual, pornografía infantil',\n",
              "       'Explotación laboral niñas, niños y adolescentes',\n",
              "       'Explotación laboral, explotación sexual',\n",
              "       'Privación ilegítima de la libertad',\n",
              "       'Explotación sexual, narcotráfico', 'Grooming', 'Ofrecimiento',\n",
              "       'Explotación sexual, oferta laboral engañosa',\n",
              "       'Traslado de personas', 'Abuso sexual',\n",
              "       'Explotación sexual, posible captación, reducción a la servidumbre o situaciones análogas, servidumbre doméstica',\n",
              "       'Explotación laboral, posible captación', 'Secuestro de menores',\n",
              "       'Secuestro', 'Trabajo infantil', 'Trata de personas',\n",
              "       'Posible captación, menores de edad en riesgo',\n",
              "       'Abuso sexual de menores',\n",
              "       'Explotación sexual, abuso sexual infantil',\n",
              "       'Promoción y facilitación de la prostitución',\n",
              "       'Matrimonio forzado', 'Explotación sexual, posible captación',\n",
              "       'Posible abuso sexual infantil, violencia física',\n",
              "       'Pornografía infantil, posible captación',\n",
              "       'Explotación laboral, oferta laboral engañosa, posible captación, reducción a la servidumbre o situaciones análogas',\n",
              "       'Explotación laboral, oferta laboral engañosa, posible captación',\n",
              "       'Delitos varios (violaciones, robos...)',\n",
              "       'Ofrecimiento, violencia intrafamiliar',\n",
              "       'Explotación sexual, persona desaparecida', 'Privacion ilegitima',\n",
              "       'Privacion ilegitima de la libertad', 'Faltó aclarar',\n",
              "       'Trata de persona', 'Privación de la libertad',\n",
              "       'Violencia familiar', 'Servidumbre doméstica', 'Estupro',\n",
              "       'No refiere', 'Explotación sexual, covid 19', 'Pedido de ayuda',\n",
              "       'Desaparición', 'Ofrecimiento, posible captación', 'Narcotráfico',\n",
              "       'Reducción a la servidumbre o situaciones análogas',\n",
              "       'Daños a un niños de 4 años', 'Ciber acoso',\n",
              "       'Ofrecimiento, ciber acoso',\n",
              "       'Reducción a la servidumbre o situaciones análogas, traslado de personas',\n",
              "       'Explotación sexual, reducción a la servidumbre o situaciones análogas',\n",
              "       'Explotación laboral, reducción a la servidumbre o situaciones análogas',\n",
              "       'Sin definir', 'Grooming, pornografía infantil',\n",
              "       'Explotación laboral niñas, niños y adolescentes, violencia física a niños',\n",
              "       'Explotación sexual niñas, niños y adolescentes, pornografía infantil, publicidad de oferta sexual',\n",
              "       'Explotación sexual, posible captación, traslado de personas',\n",
              "       'Explotación sexual, explotación sexual niñas, niños y adolescentes, posible captación, traslado de personas',\n",
              "       'Robo de identidad', 'Pornografía', 'Extorsión sexual y amenazas',\n",
              "       'Estafa y amenazas.', 'Intento de secuestro', 'No aplica',\n",
              "       'Violencia de género', 'Pedido de auxilio',\n",
              "       'Posible intento de secuestro',\n",
              "       'Privación ilégitima de la libertad', 'Salud mental',\n",
              "       'Pornografia', 'Posible secuestro', 'Privación de su libertad',\n",
              "       'Aparición', 'Venta de drogas', 'Mendicidad forzada',\n",
              "       'Mensaje sos', 'Vioalcion a derechos humanos',\n",
              "       'Posible secuestro/ billete', 'Trata', 'Covid', 'Desconoce',\n",
              "       'Física', 'Posible captación, traslado de personas',\n",
              "       'Muerte en un penal.', 'Conducta obscena',\n",
              "       'Problemas de salud mental', 'Conflicto familiar',\n",
              "       'Consulta sobre trata', 'Privacion de la libertad', 'Covid-19',\n",
              "       'Incumplimiento cuarentena', 'Adulto mayor', 'Covid 19',\n",
              "       'Amenazas', 'Aumento de precios por covid 19',\n",
              "       'Residuos via publica', 'Datos falsos', 'En la vía pública',\n",
              "       'Alquiler en contexto de covid-19', 'Acoso',\n",
              "       'Información sobre la temática',\n",
              "       'Covid- 19 - incumplimiento cuarentena', 'Deuda con anses',\n",
              "       'Llamada equivocada', 'Incumplimiento de pago de haberes',\n",
              "       'Salud - vacunación antigripal', 'Maltrato infantil',\n",
              "       'Posible demencia señil',\n",
              "       'Incumplimiento aislamiento social obligatorio por covid-19',\n",
              "       'Permiso para transitar tercera edad',\n",
              "       'Permiso circulacion covid-19', 'Pervertido',\n",
              "       'Posible maltrato infantil', 'Permiso para circular',\n",
              "       'Adulto mayor (pami)', 'Ciberdelito', 'Sin especificar',\n",
              "       'Adultos mayores', 'Adultos mayores en riesgo'], dtype=object)"
            ]
          },
          "metadata": {},
          "execution_count": 21
        }
      ]
    },
    {
      "cell_type": "markdown",
      "source": [
        "Subtema Covid fue un tema recurrente en los llamados?"
      ],
      "metadata": {
        "id": "3n4QUjZci3yP"
      }
    },
    {
      "cell_type": "code",
      "source": [
        "subtema_covid = datos_llamadas[datos_llamadas[\"subtema\"] == \"Covid-19\"]\n",
        "\n",
        "subtema_covid[\"fecha_ingreso\"].value_counts()"
      ],
      "metadata": {
        "id": "7esw9xirkyIZ",
        "colab": {
          "base_uri": "https://localhost:8080/"
        },
        "outputId": "91673adb-4c87-442d-b294-ae443c886f2d"
      },
      "execution_count": 22,
      "outputs": [
        {
          "output_type": "execute_result",
          "data": {
            "text/plain": [
              "2020-03-23    24\n",
              "2020-03-24     5\n",
              "2020-04-20     1\n",
              "2020-03-30     1\n",
              "Name: fecha_ingreso, dtype: int64"
            ]
          },
          "metadata": {},
          "execution_count": 22
        }
      ]
    },
    {
      "cell_type": "markdown",
      "source": [
        "¿Cual es el subtema que recibió más llamados?"
      ],
      "metadata": {
        "id": "FsK-A51dUfJa"
      }
    },
    {
      "cell_type": "code",
      "source": [
        "datos_llamadas[\"subtema\"].value_counts()"
      ],
      "metadata": {
        "id": "l82nlkQkUcDC",
        "colab": {
          "base_uri": "https://localhost:8080/"
        },
        "outputId": "90647817-218c-4846-bc8b-e6d93d9c9c59"
      },
      "execution_count": 23,
      "outputs": [
        {
          "output_type": "execute_result",
          "data": {
            "text/plain": [
              "Explotación sexual                                                                                                 1087\n",
              "Explotación laboral                                                                                                 426\n",
              "Posible captación                                                                                                   256\n",
              "Explotación sexual niñas, niños y adolescentes                                                                      211\n",
              "Persona desaparecida                                                                                                204\n",
              "                                                                                                                   ... \n",
              "Explotación sexual, posible captación, reducción a la servidumbre o situaciones análogas, servidumbre doméstica       1\n",
              "Explotación laboral, explotación sexual                                                                               1\n",
              "Pornografia                                                                                                           1\n",
              "Sin definir                                                                                                           1\n",
              "Faltó aclarar                                                                                                         1\n",
              "Name: subtema, Length: 135, dtype: int64"
            ]
          },
          "metadata": {},
          "execution_count": 23
        }
      ]
    },
    {
      "cell_type": "markdown",
      "source": [
        "¿Las llamadas son anonimas?"
      ],
      "metadata": {
        "id": "rW2PytOKVG4Y"
      }
    },
    {
      "cell_type": "code",
      "source": [
        "datos_llamadas[\"es_anonima\"].value_counts()"
      ],
      "metadata": {
        "id": "PGD8Iw_vU3G-",
        "colab": {
          "base_uri": "https://localhost:8080/"
        },
        "outputId": "4c90827f-7895-4521-f0ca-faff07255790"
      },
      "execution_count": 24,
      "outputs": [
        {
          "output_type": "execute_result",
          "data": {
            "text/plain": [
              "No    1689\n",
              "Si    1224\n",
              "Name: es_anonima, dtype: int64"
            ]
          },
          "metadata": {},
          "execution_count": 24
        }
      ]
    },
    {
      "cell_type": "markdown",
      "source": [
        "¿Que cantidad de llamadas logran judicializarse?"
      ],
      "metadata": {
        "id": "q9FiHo33WhQY"
      }
    },
    {
      "cell_type": "code",
      "source": [
        "datos_llamadas[\"derivacion_judicializa\"].value_counts()"
      ],
      "metadata": {
        "id": "tBopHpp6WjbT",
        "colab": {
          "base_uri": "https://localhost:8080/"
        },
        "outputId": "0a1dd1ef-0042-4c52-dfa1-57a85b660afe"
      },
      "execution_count": 26,
      "outputs": [
        {
          "output_type": "execute_result",
          "data": {
            "text/plain": [
              "Si    1857\n",
              "No     703\n",
              "Name: derivacion_judicializa, dtype: int64"
            ]
          },
          "metadata": {},
          "execution_count": 26
        }
      ]
    },
    {
      "cell_type": "code",
      "source": [
        "sns.countplot(y=datos_llamadas[\"derivacion_judicializa\"], hue = datos_llamadas[\"es_anonima\"])"
      ],
      "metadata": {
        "id": "vRNYxOG4XRrt",
        "colab": {
          "base_uri": "https://localhost:8080/",
          "height": 296
        },
        "outputId": "4df041b6-8fd2-469a-b4ea-df64f166ac7a"
      },
      "execution_count": 27,
      "outputs": [
        {
          "output_type": "execute_result",
          "data": {
            "text/plain": [
              "<matplotlib.axes._subplots.AxesSubplot at 0x7fab39c84450>"
            ]
          },
          "metadata": {},
          "execution_count": 27
        },
        {
          "output_type": "display_data",
          "data": {
            "image/png": "[encoded data removed]",
            "text/plain": [
              "<Figure size 432x288 with 1 Axes>"
            ]
          },
          "metadata": {
            "needs_background": "light"
          }
        }
      ]
    },
    {
      "cell_type": "markdown",
      "source": [
        "Ingreso de llamadas según año y mes. \n",
        "\n"
      ],
      "metadata": {
        "id": "309jXO4ne1bo"
      }
    },
    {
      "cell_type": "code",
      "source": [
        "sns.countplot(y=datos_llamadas[\"mes\"], hue = datos_llamadas[\"año\"])"
      ],
      "metadata": {
        "id": "0qv9IUqYfGE2",
        "colab": {
          "base_uri": "https://localhost:8080/",
          "height": 296
        },
        "outputId": "128a3782-4355-4ee8-e5cc-0fb1ee830c0f"
      },
      "execution_count": 28,
      "outputs": [
        {
          "output_type": "execute_result",
          "data": {
            "text/plain": [
              "<matplotlib.axes._subplots.AxesSubplot at 0x7fab39974e50>"
            ]
          },
          "metadata": {},
          "execution_count": 28
        },
        {
          "output_type": "display_data",
          "data": {
            "image/png": "[encoded data removed]",
            "text/plain": [
              "<Figure size 432x288 with 1 Axes>"
            ]
          },
          "metadata": {
            "needs_background": "light"
          }
        }
      ]
    },
    {
      "cell_type": "code",
      "source": [
        "datos_llamadas[\"año\"].value_counts()"
      ],
      "metadata": {
        "id": "9_bMz6hrhXaE",
        "colab": {
          "base_uri": "https://localhost:8080/"
        },
        "outputId": "49570cdb-93b0-45a6-a457-9f350e7c6232"
      },
      "execution_count": 29,
      "outputs": [
        {
          "output_type": "execute_result",
          "data": {
            "text/plain": [
              "2020    1603\n",
              "2021    1310\n",
              "Name: año, dtype: int64"
            ]
          },
          "metadata": {},
          "execution_count": 29
        }
      ]
    },
    {
      "cell_type": "code",
      "source": [
        "agrupada_año = datos_llamadas.groupby(\"año\")"
      ],
      "metadata": {
        "id": "pqeoI_IyiUzk"
      },
      "execution_count": 30,
      "outputs": []
    },
    {
      "cell_type": "code",
      "source": [
        "agrupada_año[\"mes\" ].value_counts()"
      ],
      "metadata": {
        "id": "4QqhWDlKhdVJ",
        "colab": {
          "base_uri": "https://localhost:8080/"
        },
        "outputId": "cf17e4d0-c4e3-4401-a470-e794e49c2273"
      },
      "execution_count": 31,
      "outputs": [
        {
          "output_type": "execute_result",
          "data": {
            "text/plain": [
              "año   mes\n",
              "2020  3      189\n",
              "      1      165\n",
              "      8      160\n",
              "      4      151\n",
              "      2      145\n",
              "      5      136\n",
              "      12     129\n",
              "      9      128\n",
              "      7      102\n",
              "      10     101\n",
              "      6      100\n",
              "      11      97\n",
              "2021  8      174\n",
              "      3      165\n",
              "      7      152\n",
              "      1      147\n",
              "      9      145\n",
              "      4      141\n",
              "      2      139\n",
              "      5      130\n",
              "      6      117\n",
              "Name: mes, dtype: int64"
            ]
          },
          "metadata": {},
          "execution_count": 31
        }
      ]
    },
    {
      "cell_type": "markdown",
      "source": [
        "Cantidad de llamadas por provincia segun el año. "
      ],
      "metadata": {
        "id": "rSXbuDZNZ8hs"
      }
    },
    {
      "cell_type": "code",
      "source": [
        "agrupada_año[\"provincia\" ].value_counts()"
      ],
      "metadata": {
        "colab": {
          "base_uri": "https://localhost:8080/"
        },
        "id": "3fEvW319ZVKf",
        "outputId": "1f566876-d600-4eeb-ad89-55db8c3e5273"
      },
      "execution_count": 41,
      "outputs": [
        {
          "output_type": "execute_result",
          "data": {
            "text/plain": [
              "año   provincia                      \n",
              "2020  Buenos Aires                       764\n",
              "      Córdoba                            115\n",
              "      Santa Fe                            85\n",
              "      Ciudad Autónoma de Buenos Aires     76\n",
              "      Mendoza                             75\n",
              "      Neuquén                             47\n",
              "      Tucumán                             43\n",
              "      Misiones                            38\n",
              "      Salta                               38\n",
              "      Corrientes                          36\n",
              "      Río Negro                           28\n",
              "      Chubut                              22\n",
              "      Jujuy                               22\n",
              "      Santiago del Estero                 19\n",
              "      Entre Ríos                          17\n",
              "      Chaco                               14\n",
              "      San Luis                            13\n",
              "      Catamarca                           10\n",
              "      Formosa                              7\n",
              "      San Juan                             6\n",
              "      Santa Cruz                           6\n",
              "      La Rioja                             5\n",
              "      La Pampa                             3\n",
              "      Tierra del Fuego                     3\n",
              "2021  Buenos Aires                       597\n",
              "      Santa Fe                            71\n",
              "      Córdoba                             61\n",
              "      Mendoza                             61\n",
              "      Salta                               36\n",
              "      Tucumán                             32\n",
              "      Misiones                            30\n",
              "      Río Negro                           29\n",
              "      Corrientes                          26\n",
              "      Entre Ríos                          25\n",
              "      Chaco                               21\n",
              "      Ciudad Autónoma de Buenos Aires     20\n",
              "      Santiago del Estero                 19\n",
              "      Neuquén                             18\n",
              "      Chubut                              14\n",
              "      Santa Cruz                          14\n",
              "      Catamarca                           13\n",
              "      San Luis                            13\n",
              "      San Juan                            10\n",
              "      Formosa                              9\n",
              "      Jujuy                                9\n",
              "      La Pampa                             7\n",
              "      Tierra del Fuego                     5\n",
              "      La Rioja                             4\n",
              "      Colorado                             1\n",
              "Name: provincia, dtype: int64"
            ]
          },
          "metadata": {},
          "execution_count": 41
        }
      ]
    },
    {
      "cell_type": "code",
      "source": [
        "sns.countplot(y=datos_llamadas[\"provincia\"], hue = datos_llamadas[\"año\"])"
      ],
      "metadata": {
        "colab": {
          "base_uri": "https://localhost:8080/",
          "height": 296
        },
        "id": "LPBr9Zx2aY9c",
        "outputId": "8e7ec505-2207-4d79-8149-e14421903c4b"
      },
      "execution_count": 50,
      "outputs": [
        {
          "output_type": "execute_result",
          "data": {
            "text/plain": [
              "<matplotlib.axes._subplots.AxesSubplot at 0x7fab36c2f090>"
            ]
          },
          "metadata": {},
          "execution_count": 50
        },
        {
          "output_type": "display_data",
          "data": {
            "image/png": "[encoded data removed]",
            "text/plain": [
              "<Figure size 432x288 with 1 Axes>"
            ]
          },
          "metadata": {
            "needs_background": "light"
          }
        }
      ]
    }
  ]
}